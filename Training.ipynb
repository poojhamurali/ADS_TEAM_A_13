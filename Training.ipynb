{
  "cells": [
    {
      "cell_type": "code",
      "execution_count": null,
      "metadata": {
        "id": "EFm85jPjLxH8"
      },
      "outputs": [],
      "source": [
        "mkdir midi_songs"
      ]
    },
    {
      "cell_type": "code",
      "execution_count": null,
      "metadata": {
        "colab": {
          "base_uri": "https://localhost:8080/"
        },
        "id": "Cnaa-3eKOUWt",
        "outputId": "5dc57a94-5c2b-4974-cba5-6cb6e7bd4eaa"
      },
      "outputs": [
        {
          "name": "stdout",
          "output_type": "stream",
          "text": [
            "/content/midi_songs\n"
          ]
        }
      ],
      "source": [
        "cd midi_songs"
      ]
    },
    {
      "cell_type": "code",
      "execution_count": null,
      "metadata": {
        "colab": {
          "base_uri": "https://localhost:8080/"
        },
        "id": "O5uBdSCVO4TN",
        "outputId": "0fb3b800-00b9-4003-c851-cc5384f3cdb6"
      },
      "outputs": [
        {
          "name": "stdout",
          "output_type": "stream",
          "text": [
            "Archive:  /content/midi_songs.zip\n",
            "  inflating: midi_songs/0fithos.mid  \n",
            "  inflating: midi_songs/8.mid        \n",
            "  inflating: midi_songs/ahead_on_our_way_piano.mid  \n",
            "  inflating: midi_songs/AT.mid       \n",
            "  inflating: midi_songs/balamb.mid   \n",
            "  inflating: midi_songs/bcm.mid      \n",
            "  inflating: midi_songs/BlueStone_LastDungeon.mid  \n",
            "  inflating: midi_songs/braska.mid   \n",
            "  inflating: midi_songs/caitsith.mid  \n",
            "  inflating: midi_songs/Cids.mid     \n",
            "  inflating: midi_songs/cosmo.mid    \n",
            "  inflating: midi_songs/costadsol.mid  \n",
            "  inflating: midi_songs/dayafter.mid  \n",
            "  inflating: midi_songs/decisive.mid  \n",
            "  inflating: midi_songs/dontbeafraid.mid  \n",
            "  inflating: midi_songs/DOS.mid      \n",
            "  inflating: midi_songs/electric_de_chocobo.mid  \n",
            "  inflating: midi_songs/Eternal_Harvest.mid  \n",
            "  inflating: midi_songs/EyesOnMePiano.mid  \n",
            "  inflating: midi_songs/ff11_awakening_piano.mid  \n",
            "  inflating: midi_songs/ff1battp.mid  \n",
            "  inflating: midi_songs/FF3_Battle_(Piano).mid  \n",
            "  inflating: midi_songs/FF3_Third_Phase_Final_(Piano).mid  \n",
            "  inflating: midi_songs/FF4.mid      \n",
            "  inflating: midi_songs/ff4_piano_collections-main_theme.mid  \n",
            "  inflating: midi_songs/ff4-airship.mid  \n",
            "  inflating: midi_songs/Ff4-BattleLust.mid  \n",
            "  inflating: midi_songs/ff4-fight1.mid  \n",
            "  inflating: midi_songs/ff4pclov.mid  \n",
            "  inflating: midi_songs/ff4-town.mid  \n",
            "  inflating: midi_songs/FF6epitaph_piano.mid  \n",
            "  inflating: midi_songs/ff6shap.mid  \n",
            "  inflating: midi_songs/Ff7-Cinco.mid  \n",
            "  inflating: midi_songs/Ff7-Jenova_Absolute.mid  \n",
            "  inflating: midi_songs/ff7-mainmidi.mid  \n",
            "  inflating: midi_songs/Ff7-One_Winged.mid  \n",
            "  inflating: midi_songs/ff7themep.mid  \n",
            "  inflating: midi_songs/FF8_Shuffle_or_boogie_pc.mid  \n",
            "  inflating: midi_songs/ff8-lfp.mid  \n",
            "  inflating: midi_songs/FFIII_Edgar_And_Sabin_Piano.mid  \n",
            "  inflating: midi_songs/FFIX_Piano.mid  \n",
            "  inflating: midi_songs/FFIXQuMarshP.mid  \n",
            "  inflating: midi_songs/FFVII_BATTLE.mid  \n",
            "  inflating: midi_songs/FFX_-_Ending_Theme_(Piano_Version)_-_by_Angel_FF.mid  \n",
            "  inflating: midi_songs/Fiend_Battle_(Piano).mid  \n",
            "  inflating: midi_songs/Fierce_Battle_(Piano).mid  \n",
            "  inflating: midi_songs/figaro.mid   \n",
            "  inflating: midi_songs/Final_Fantasy_7_-_Judgement_Day_Piano.mid  \n",
            "  inflating: midi_songs/Final_Fantasy_Matouyas_Cave_Piano.mid  \n",
            "  inflating: midi_songs/Finalfantasy5gilgameshp.mid  \n",
            "  inflating: midi_songs/Finalfantasy6fanfarecomplete.mid  \n",
            "  inflating: midi_songs/fortresscondor.mid  \n",
            "  inflating: midi_songs/Fyw_piano.mid  \n",
            "  inflating: midi_songs/gerudo.mid   \n",
            "  inflating: midi_songs/Gold_Silver_Rival_Battle.mid  \n",
            "  inflating: midi_songs/goldsaucer.mid  \n",
            "  inflating: midi_songs/great_war.mid  \n",
            "  inflating: midi_songs/HighwindTakestotheSkies.mid  \n",
            "  inflating: midi_songs/In_Zanarkand.mid  \n",
            "  inflating: midi_songs/JENOVA.mid   \n",
            "  inflating: midi_songs/Kingdom_Hearts_Dearly_Beloved.mid  \n",
            "  inflating: midi_songs/Kingdom_Hearts_Traverse_Town.mid  \n",
            "  inflating: midi_songs/Life_Stream.mid  \n",
            "  inflating: midi_songs/lurk_in_dark.mid  \n",
            "  inflating: midi_songs/mining.mid   \n",
            "  inflating: midi_songs/Oppressed.mid  \n",
            "  inflating: midi_songs/OTD5YA.mid   \n",
            "  inflating: midi_songs/path_of_repentance.mid  \n",
            "  inflating: midi_songs/pkelite4.mid  \n",
            "  inflating: midi_songs/Rachel_Piano_tempofix.mid  \n",
            "  inflating: midi_songs/redwings.mid  \n",
            "  inflating: midi_songs/relmstheme-piano.mid  \n",
            "  inflating: midi_songs/roseofmay-piano.mid  \n",
            "  inflating: midi_songs/rufus.mid    \n",
            "  inflating: midi_songs/Rydia_pc.mid  \n",
            "  inflating: midi_songs/sandy.mid    \n",
            "  inflating: midi_songs/sera_.mid    \n",
            "  inflating: midi_songs/sobf.mid     \n",
            "  inflating: midi_songs/Still_Alive-1.mid  \n",
            "  inflating: midi_songs/Suteki_Da_Ne_(Piano_Version).mid  \n",
            "  inflating: midi_songs/thenightmarebegins.mid  \n",
            "  inflating: midi_songs/thoughts.mid  \n",
            "  inflating: midi_songs/tifap.mid    \n",
            "  inflating: midi_songs/tpirtsd-piano.mid  \n",
            "  inflating: midi_songs/traitor.mid  \n",
            "  inflating: midi_songs/ultimafro.mid  \n",
            "  inflating: midi_songs/ultros.mid   \n",
            "  inflating: midi_songs/VincentPiano.mid  \n",
            "  inflating: midi_songs/ViviinAlexandria.mid  \n",
            "  inflating: midi_songs/waltz_de_choco.mid  \n",
            "  inflating: midi_songs/z_aeristhemepiano.mid  \n",
            "  inflating: midi_songs/Zelda_Overworld.mid  \n"
          ]
        }
      ],
      "source": [
        "!unzip  /content/midi_songs.zip"
      ]
    },
    {
      "cell_type": "code",
      "execution_count": null,
      "metadata": {
        "colab": {
          "base_uri": "https://localhost:8080/"
        },
        "id": "8AppXe1woisp",
        "outputId": "2815d6a9-0b0f-43b8-f589-9dfde536f067"
      },
      "outputs": [
        {
          "name": "stdout",
          "output_type": "stream",
          "text": [
            "Collecting np_utils\n",
            "  Downloading np_utils-0.6.0.tar.gz (61 kB)\n",
            "\u001b[2K     \u001b[90m━━━━━━━━━━━━━━━━━━━━━━━━━━━━━━━━━━━━━━━━\u001b[0m \u001b[32m62.0/62.0 kB\u001b[0m \u001b[31m1.6 MB/s\u001b[0m eta \u001b[36m0:00:00\u001b[0m\n",
            "\u001b[?25h  Preparing metadata (setup.py) ... \u001b[?25l\u001b[?25hdone\n",
            "Requirement already satisfied: numpy>=1.0 in /usr/local/lib/python3.10/dist-packages (from np_utils) (1.23.5)\n",
            "Building wheels for collected packages: np_utils\n",
            "  Building wheel for np_utils (setup.py) ... \u001b[?25l\u001b[?25hdone\n",
            "  Created wheel for np_utils: filename=np_utils-0.6.0-py3-none-any.whl size=56439 sha256=26bbee5a240ba031803b43c31a4775c1d2dbf11abed6c3c94011e4e4ad865b50\n",
            "  Stored in directory: /root/.cache/pip/wheels/b6/c7/50/2307607f44366dd021209f660045f8d51cb976514d30be7cc7\n",
            "Successfully built np_utils\n",
            "Installing collected packages: np_utils\n",
            "Successfully installed np_utils-0.6.0\n"
          ]
        }
      ],
      "source": [
        "!pip install np_utils"
      ]
    },
    {
      "cell_type": "code",
      "execution_count": null,
      "metadata": {
        "id": "aOEeZ4bGOXJk"
      },
      "outputs": [],
      "source": [
        "import glob\n",
        "import pickle\n",
        "import numpy\n",
        "from music21 import converter, instrument, note, chord\n",
        "from keras.models import Sequential\n",
        "from keras.layers import Dense\n",
        "from keras.layers import Dropout\n",
        "from keras.layers import LSTM\n",
        "from keras.layers import Activation\n",
        "from keras.layers import BatchNormalization as BatchNorm\n",
        "from keras.utils import to_categorical\n",
        "from keras.callbacks import ModelCheckpoint\n",
        "def train_network():\n",
        "    \"\"\" Train a Neural Network to generate music \"\"\"\n",
        "    notes = get_notes()\n",
        "\n",
        "    # get amount of pitch names\n",
        "    n_vocab = len(set(notes))\n",
        "\n",
        "    network_input, network_output = prepare_sequences(notes, n_vocab)\n",
        "\n",
        "    model = create_network(network_input, n_vocab)\n",
        "\n",
        "    train(model, network_input, network_output)"
      ]
    },
    {
      "cell_type": "code",
      "execution_count": null,
      "metadata": {
        "id": "J1rkrcbPlICv"
      },
      "outputs": [],
      "source": [
        "def get_notes():\n",
        "    \"\"\" Get all the notes and chords from the midi files in the ./midi_songs directory \"\"\"\n",
        "    notes = []\n",
        "\n",
        "    for file in glob.glob(\"/content/midi_songs/midi_songs/*.mid\"):  # Adjust the file path for glob.glob\n",
        "        midi = converter.parse(file)\n",
        "\n",
        "        print(\"Parsing %s\" % file)\n",
        "\n",
        "        notes_to_parse = None\n",
        "\n",
        "        try:  # File has instrument parts\n",
        "            s2 = instrument.partitionByInstrument(midi)\n",
        "            notes_to_parse = s2.parts[0].recurse()\n",
        "        except:  # File has notes in a flat structure\n",
        "            notes_to_parse = midi.flat.notes\n",
        "\n",
        "        for element in notes_to_parse:\n",
        "            if isinstance(element, note.Note):\n",
        "                notes.append(str(element.pitch))\n",
        "            elif isinstance(element, chord.Chord):\n",
        "                notes.append('.'.join(str(n) for n in element.normalOrder))\n",
        "\n",
        "    with open('/content/notes', 'wb') as filepath:\n",
        "        pickle.dump(notes, filepath)\n",
        "\n",
        "    return notes"
      ]
    },
    {
      "cell_type": "code",
      "execution_count": null,
      "metadata": {
        "colab": {
          "background_save": true,
          "base_uri": "https://localhost:8080/"
        },
        "id": "NY7lCnnGqJWJ",
        "outputId": "68b8eac3-c6fe-46fe-c346-c05d7115a799"
      },
      "outputs": [
        {
          "name": "stdout",
          "output_type": "stream",
          "text": [
            "Parsing /content/midi_songs/midi_songs/bcm.mid\n",
            "Parsing /content/midi_songs/midi_songs/FFVII_BATTLE.mid\n",
            "Parsing /content/midi_songs/midi_songs/Kingdom_Hearts_Traverse_Town.mid\n",
            "Parsing /content/midi_songs/midi_songs/FF3_Third_Phase_Final_(Piano).mid\n",
            "Parsing /content/midi_songs/midi_songs/roseofmay-piano.mid\n",
            "Parsing /content/midi_songs/midi_songs/FF4.mid\n",
            "Parsing /content/midi_songs/midi_songs/Suteki_Da_Ne_(Piano_Version).mid\n",
            "Parsing /content/midi_songs/midi_songs/traitor.mid\n",
            "Parsing /content/midi_songs/midi_songs/FF6epitaph_piano.mid\n",
            "Parsing /content/midi_songs/midi_songs/FF8_Shuffle_or_boogie_pc.mid\n",
            "Parsing /content/midi_songs/midi_songs/ff1battp.mid\n",
            "Parsing /content/midi_songs/midi_songs/Gold_Silver_Rival_Battle.mid\n",
            "Parsing /content/midi_songs/midi_songs/Final_Fantasy_Matouyas_Cave_Piano.mid\n",
            "Parsing /content/midi_songs/midi_songs/redwings.mid\n",
            "Parsing /content/midi_songs/midi_songs/relmstheme-piano.mid\n",
            "Parsing /content/midi_songs/midi_songs/Kingdom_Hearts_Dearly_Beloved.mid\n",
            "Parsing /content/midi_songs/midi_songs/FF3_Battle_(Piano).mid\n",
            "Parsing /content/midi_songs/midi_songs/caitsith.mid\n",
            "Parsing /content/midi_songs/midi_songs/mining.mid\n",
            "Parsing /content/midi_songs/midi_songs/dontbeafraid.mid\n",
            "Parsing /content/midi_songs/midi_songs/0fithos.mid\n",
            "Parsing /content/midi_songs/midi_songs/ff4-fight1.mid\n",
            "Parsing /content/midi_songs/midi_songs/EyesOnMePiano.mid\n",
            "Parsing /content/midi_songs/midi_songs/figaro.mid\n",
            "Parsing /content/midi_songs/midi_songs/ViviinAlexandria.mid\n",
            "Parsing /content/midi_songs/midi_songs/FFIXQuMarshP.mid\n",
            "Parsing /content/midi_songs/midi_songs/Finalfantasy6fanfarecomplete.mid\n",
            "Parsing /content/midi_songs/midi_songs/FFIII_Edgar_And_Sabin_Piano.mid\n",
            "Parsing /content/midi_songs/midi_songs/Zelda_Overworld.mid\n",
            "Parsing /content/midi_songs/midi_songs/Fiend_Battle_(Piano).mid\n",
            "Parsing /content/midi_songs/midi_songs/waltz_de_choco.mid\n",
            "Parsing /content/midi_songs/midi_songs/balamb.mid\n",
            "Parsing /content/midi_songs/midi_songs/ultimafro.mid\n",
            "Parsing /content/midi_songs/midi_songs/sobf.mid\n",
            "Parsing /content/midi_songs/midi_songs/tifap.mid\n",
            "Parsing /content/midi_songs/midi_songs/thenightmarebegins.mid\n",
            "Parsing /content/midi_songs/midi_songs/ff11_awakening_piano.mid\n",
            "Parsing /content/midi_songs/midi_songs/goldsaucer.mid\n",
            "Parsing /content/midi_songs/midi_songs/8.mid\n",
            "Parsing /content/midi_songs/midi_songs/VincentPiano.mid\n",
            "Parsing /content/midi_songs/midi_songs/Ff7-Cinco.mid\n",
            "Parsing /content/midi_songs/midi_songs/OTD5YA.mid\n",
            "Parsing /content/midi_songs/midi_songs/thoughts.mid\n",
            "Parsing /content/midi_songs/midi_songs/Ff4-BattleLust.mid\n",
            "Parsing /content/midi_songs/midi_songs/Oppressed.mid\n",
            "Parsing /content/midi_songs/midi_songs/Ff7-Jenova_Absolute.mid\n",
            "Parsing /content/midi_songs/midi_songs/HighwindTakestotheSkies.mid\n",
            "Parsing /content/midi_songs/midi_songs/Final_Fantasy_7_-_Judgement_Day_Piano.mid\n",
            "Parsing /content/midi_songs/midi_songs/Cids.mid\n",
            "Parsing /content/midi_songs/midi_songs/rufus.mid\n",
            "Parsing /content/midi_songs/midi_songs/ff6shap.mid\n",
            "Parsing /content/midi_songs/midi_songs/pkelite4.mid\n"
          ]
        },
        {
          "name": "stderr",
          "output_type": "stream",
          "text": [
            "/usr/local/lib/python3.10/dist-packages/music21/midi/translate.py:874: TranslateWarning: Unable to determine instrument from <music21.midi.MidiEvent SEQUENCE_TRACK_NAME, track=6, channel=None, data=b'Pok\\xe9mon: Elite Four (Piano)'>; getting generic Instrument\n",
            "  warnings.warn(\n"
          ]
        },
        {
          "name": "stdout",
          "output_type": "stream",
          "text": [
            "Parsing /content/midi_songs/midi_songs/FFIX_Piano.mid\n",
            "Parsing /content/midi_songs/midi_songs/JENOVA.mid\n",
            "Parsing /content/midi_songs/midi_songs/Eternal_Harvest.mid\n",
            "Parsing /content/midi_songs/midi_songs/gerudo.mid\n",
            "Parsing /content/midi_songs/midi_songs/ff7-mainmidi.mid\n",
            "Parsing /content/midi_songs/midi_songs/sandy.mid\n",
            "Parsing /content/midi_songs/midi_songs/ultros.mid\n",
            "Parsing /content/midi_songs/midi_songs/ahead_on_our_way_piano.mid\n",
            "Parsing /content/midi_songs/midi_songs/braska.mid\n",
            "Parsing /content/midi_songs/midi_songs/fortresscondor.mid\n",
            "Parsing /content/midi_songs/midi_songs/Rydia_pc.mid\n",
            "Parsing /content/midi_songs/midi_songs/decisive.mid\n",
            "Parsing /content/midi_songs/midi_songs/ff4-airship.mid\n",
            "Parsing /content/midi_songs/midi_songs/cosmo.mid\n",
            "Parsing /content/midi_songs/midi_songs/great_war.mid\n",
            "Parsing /content/midi_songs/midi_songs/BlueStone_LastDungeon.mid\n",
            "Parsing /content/midi_songs/midi_songs/Rachel_Piano_tempofix.mid\n",
            "Parsing /content/midi_songs/midi_songs/Life_Stream.mid\n",
            "Parsing /content/midi_songs/midi_songs/sera_.mid\n",
            "Parsing /content/midi_songs/midi_songs/Fyw_piano.mid\n",
            "Parsing /content/midi_songs/midi_songs/Fierce_Battle_(Piano).mid\n",
            "Parsing /content/midi_songs/midi_songs/Finalfantasy5gilgameshp.mid\n",
            "Parsing /content/midi_songs/midi_songs/Ff7-One_Winged.mid\n",
            "Parsing /content/midi_songs/midi_songs/In_Zanarkand.mid\n",
            "Parsing /content/midi_songs/midi_songs/ff8-lfp.mid\n"
          ]
        },
        {
          "name": "stderr",
          "output_type": "stream",
          "text": [
            "/usr/local/lib/python3.10/dist-packages/music21/midi/translate.py:874: TranslateWarning: Unable to determine instrument from <music21.midi.MidiEvent SEQUENCE_TRACK_NAME, track=5, channel=None, data=b'Martin Rosok Copyright \\xa9 1998'>; getting generic Instrument\n",
            "  warnings.warn(\n"
          ]
        },
        {
          "name": "stdout",
          "output_type": "stream",
          "text": [
            "Parsing /content/midi_songs/midi_songs/ff7themep.mid\n",
            "Parsing /content/midi_songs/midi_songs/tpirtsd-piano.mid\n",
            "Parsing /content/midi_songs/midi_songs/ff4pclov.mid\n",
            "Parsing /content/midi_songs/midi_songs/AT.mid\n",
            "Parsing /content/midi_songs/midi_songs/DOS.mid\n",
            "Parsing /content/midi_songs/midi_songs/FFX_-_Ending_Theme_(Piano_Version)_-_by_Angel_FF.mid\n",
            "Parsing /content/midi_songs/midi_songs/ff4_piano_collections-main_theme.mid\n",
            "Parsing /content/midi_songs/midi_songs/Still_Alive-1.mid\n",
            "Parsing /content/midi_songs/midi_songs/ff4-town.mid\n",
            "Parsing /content/midi_songs/midi_songs/costadsol.mid\n",
            "Parsing /content/midi_songs/midi_songs/dayafter.mid\n",
            "Parsing /content/midi_songs/midi_songs/electric_de_chocobo.mid\n",
            "Parsing /content/midi_songs/midi_songs/z_aeristhemepiano.mid\n",
            "Parsing /content/midi_songs/midi_songs/lurk_in_dark.mid\n",
            "Parsing /content/midi_songs/midi_songs/path_of_repentance.mid\n",
            "Epoch 1/30\n",
            "251/359 [===================>..........] - ETA: 24:49 - loss: 5.3321 - accuracy: 0.0227"
          ]
        }
      ],
      "source": [
        "\n",
        "def prepare_sequences(notes, n_vocab):\n",
        "    \"\"\" Prepare the sequences used by the Neural Network \"\"\"\n",
        "    sequence_length = 100\n",
        "\n",
        "    # get all pitch names\n",
        "    pitchnames = sorted(set(item for item in notes))\n",
        "\n",
        "     # create a dictionary to map pitches to integers\n",
        "    note_to_int = dict((note, number) for number, note in enumerate(pitchnames))\n",
        "\n",
        "    network_input = []\n",
        "    network_output = []\n",
        "\n",
        "    # create input sequences and the corresponding outputs\n",
        "    for i in range(0, len(notes) - sequence_length, 1):\n",
        "        sequence_in = notes[i:i + sequence_length]\n",
        "        sequence_out = notes[i + sequence_length]\n",
        "        network_input.append([note_to_int[char] for char in sequence_in])\n",
        "        network_output.append(note_to_int[sequence_out])\n",
        "\n",
        "    n_patterns = len(network_input)\n",
        "\n",
        "    # reshape the input into a format compatible with LSTM layers\n",
        "    network_input = numpy.reshape(network_input, (n_patterns, sequence_length, 1))\n",
        "    # normalize input\n",
        "    network_input = network_input / float(n_vocab)\n",
        "\n",
        "    network_output = to_categorical(network_output, num_classes=n_vocab)\n",
        "\n",
        "    return (network_input, network_output)\n",
        "\n",
        "def create_network(network_input, n_vocab):\n",
        "    \"\"\" create the structure of the neural network \"\"\"\n",
        "    model = Sequential()\n",
        "    model = Sequential()\n",
        "    model.add(LSTM(512, input_shape=(network_input.shape[1], network_input.shape[2]), recurrent_dropout=0.3, return_sequences=True))\n",
        "    model.add(LSTM(512, return_sequences=True, recurrent_dropout=0.3))\n",
        "    model.add(LSTM(512, return_sequences=False, recurrent_dropout=0.3))  # Ensure return_sequences=False for the last LSTM layer\n",
        "    model.add(BatchNorm())\n",
        "    model.add(Dropout(0.3))\n",
        "    model.add(Dense(256))\n",
        "    model.add(Activation('relu'))\n",
        "    model.add(BatchNorm())\n",
        "    model.add(Dropout(0.3))\n",
        "    model.add(Dense(n_vocab))\n",
        "    model.add(Activation('softmax'))\n",
        "    model.compile(loss='categorical_crossentropy', optimizer='rmsprop', metrics=['accuracy'])  # Add metrics for tracking during training\n",
        "\n",
        "\n",
        "    return model\n",
        "def train(model, network_input, network_output):\n",
        "    \"\"\" train the neural network \"\"\"\n",
        "    filepath = \"weights-improvement-{epoch:02d}-{loss:.4f}-bigger.hdf5\"\n",
        "    checkpoint = ModelCheckpoint(\n",
        "        filepath,\n",
        "        monitor='loss',\n",
        "        verbose=0,\n",
        "        save_best_only=True,\n",
        "        mode='min'\n",
        "    )\n",
        "    callbacks_list = [checkpoint]\n",
        "\n",
        "    model.fit(network_input, network_output, epochs=30, batch_size=128, callbacks=callbacks_list)\n",
        "\n",
        "if __name__ == '__main__':\n",
        "    train_network()\n"
      ]
    },
    {
      "cell_type": "code",
      "execution_count": null,
      "metadata": {
        "id": "2C7hdDQB87FG"
      },
      "outputs": [],
      "source": [
        "/content/midi_songs"
      ]
    },
    {
      "cell_type": "code",
      "execution_count": null,
      "metadata": {
        "id": "jrh-B9aviqHj"
      },
      "outputs": [],
      "source": [
        "https://bitmidi.com/never-gonna-let-you-go-mid"
      ]
    }
  ],
  "metadata": {
    "accelerator": "GPU",
    "colab": {
      "provenance": []
    },
    "kernelspec": {
      "display_name": "Python 3",
      "name": "python3"
    },
    "language_info": {
      "name": "python"
    }
  },
  "nbformat": 4,
  "nbformat_minor": 0
}